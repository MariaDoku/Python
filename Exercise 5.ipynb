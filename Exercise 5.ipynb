{
 "cells": [
  {
   "cell_type": "code",
   "execution_count": 16,
   "metadata": {},
   "outputs": [
    {
     "name": "stdout",
     "output_type": "stream",
     "text": [
      "Let's talk about Zed A. Shaw.\n",
      "He's 74 inches tall.\n",
      "He's 187.96 centimeters tall.\n",
      "He's 180 pounds heavy.\n",
      "He's 81.72 kilograms heavy.\n",
      "Actually that's not too heavy.\n",
      "He's got Blue eyes and Brown hair.\n",
      "His teeth are usually White depending on the coffee.\n",
      "If I add 35, 74, and 180 I get 289.\n"
     ]
    }
   ],
   "source": [
    "name = 'Zed A. Shaw'\n",
    "age = 35 # not a lie\n",
    "height = 74 # inches\n",
    "centimeters = height * 2.54\n",
    "weight = 180 # lbs\n",
    "kilograms = weight * .454\n",
    "eyes = 'Blue'\n",
    "teeth = 'White'\n",
    "hair = 'Brown'\n",
    "\n",
    "print(f\"Let's talk about {name}.\")\n",
    "print(f\"He's {height} inches tall.\")\n",
    "print(f\"He's {centimeters} centimeters tall.\")\n",
    "print(f\"He's {weight} pounds heavy.\")\n",
    "print(f\"He's {kilograms} kilograms heavy.\")\n",
    "print(\"Actually that's not too heavy.\")\n",
    "print(f\"He's got {eyes} eyes and {hair} hair.\")\n",
    "print(f\"His teeth are usually {teeth} depending on the coffee.\")\n",
    "\n",
    "# this line is tricky, try to get it exactly right\n",
    "total = age + height + weight\n",
    "print(f\"If I add {age}, {height}, and {weight} I get {total}.\")\n"
   ]
  }
 ],
 "metadata": {
  "interpreter": {
   "hash": "8b3a5fbcef645b480df41169f695c95f3d722b99e3164ea687cf494bb22ecfce"
  },
  "kernelspec": {
   "display_name": "Python 3.9.9 64-bit (windows store)",
   "name": "python3"
  },
  "language_info": {
   "codemirror_mode": {
    "name": "ipython",
    "version": 3
   },
   "file_extension": ".py",
   "mimetype": "text/x-python",
   "name": "python",
   "nbconvert_exporter": "python",
   "pygments_lexer": "ipython3",
   "version": "3.9.9"
  },
  "orig_nbformat": 4
 },
 "nbformat": 4,
 "nbformat_minor": 2
}
